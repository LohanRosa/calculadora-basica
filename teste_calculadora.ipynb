{
  "nbformat": 4,
  "nbformat_minor": 0,
  "metadata": {
    "colab": {
      "provenance": [],
      "authorship_tag": "ABX9TyMYhnWultkEUvufrTBtTdbX",
      "include_colab_link": true
    },
    "kernelspec": {
      "name": "python3",
      "display_name": "Python 3"
    },
    "language_info": {
      "name": "python"
    }
  },
  "cells": [
    {
      "cell_type": "markdown",
      "metadata": {
        "id": "view-in-github",
        "colab_type": "text"
      },
      "source": [
        "<a href=\"https://colab.research.google.com/github/LohanRosa/calculadora-basica/blob/main/teste_calculadora.ipynb\" target=\"_parent\"><img src=\"https://colab.research.google.com/assets/colab-badge.svg\" alt=\"Open In Colab\"/></a>"
      ]
    },
    {
      "cell_type": "code",
      "execution_count": null,
      "metadata": {
        "id": "Ic0adZ3HQjTz"
      },
      "outputs": [],
      "source": [
        "while True:\n",
        "    try:\n",
        "        primeiro_numero = float(input(\"Insira o primeiro número: \"))\n",
        "        segundo_numero = float(input(\"Insira o segundo número: \"))\n",
        "        break\n",
        "    except ValueError:\n",
        "        Print(\"Resposta inválida. Insira um número.\")\n",
        "while True:\n",
        "    operacao = input(\"Escolha uma operação matemática (+, -, *, /): \")\n",
        "    if operacao in [\"+\", \"-\", \"*\", \"/\"]:\n",
        "        break\n",
        "    print(\"Opção inválida\")\n",
        "if operacao == \"+\":\n",
        "    resultado = primeiro_numero + segundo_numero\n",
        "elif operacao == \"-\":\n",
        "    resultado = primeiro_numero - segundo_numero\n",
        "elif operacao == \"*\":\n",
        "    resultado = primeiro_numero * segundo_numero\n",
        "elif operacao == \"/\":\n",
        "    resultado = primeiro_numero / segundo_numero\n",
        "print(f\"O resultado da operação escolhida é: {resultado}\")"
      ]
    },
    {
      "cell_type": "code",
      "source": [],
      "metadata": {
        "id": "ipVkB2IYQvW8"
      },
      "execution_count": null,
      "outputs": []
    }
  ]
}